{
 "cells": [
  {
   "cell_type": "markdown",
   "id": "83187e63",
   "metadata": {},
   "source": [
    "# Nexus AI Challenges\n",
    "These are small example projects that are very relevant to the kind of projects you would be working\n",
    "on here.\n",
    "### Ground Rules\n",
    "Choose one of the projects ( “ID card detection” or “Contract document checking” ) and provide the\n",
    "following things\n",
    "\n",
    "\n",
    "**I've chosen Contract document checking project**"
   ]
  },
  {
   "cell_type": "markdown",
   "id": "cb15bfbb",
   "metadata": {},
   "source": [
    "## (2) Contract document checking\n",
    "Problem: Currently the legal check of contracts take a long time and it impacts business’ speed. So,\n",
    "we want to speed up the legal checks to accelerate business and avoid missed business\n",
    "opportunities.\n",
    "We want to build a system to legal check \"contract\" document. The system gets PDF contract\n",
    "document and check if it is \"OK\". OK means there is no \"Unfair contract terms\", \"Disadvantageous\n",
    "clauses\" and so on.\n",
    "Contract documents are defined as below:\n",
    "- English only\n",
    "- There are 2 types of PDFs\n",
    "- Scanned image PDF: PDFs include image which is scanned by scanner. Not include \"Text\" data\n",
    "inside. Need to do OCR\n",
    "- searchable PDF: PDFs which include text data, so that you can copy, search and extract text itself\n",
    "from the PDF\n",
    "We need to extract sentences of the terms which ‘may cause problems’. And during the checking\n",
    "process, we need to provide \"Why it may cause problem\"\n",
    "### Input & Output\n",
    "- Input\n",
    "- PDF file (multiple pages, scanned image PDF or searchable PDF)\n",
    "- Output\n",
    "- list of problematic sentences and reasons why"
   ]
  },
  {
   "cell_type": "markdown",
   "id": "bf19cd11",
   "metadata": {},
   "source": [
    "1. A detailed solution which describes \"How you would solve the problem\", include URLs of web\n",
    "pages, articles, code repositories you will use.\n",
    "\n",
    "**The main focus is on classifying text to relevant (OK) or irrelevant (NOT OK). Text may exctact from searchable PDFs ( pdfminer package https://pdfminersix.readthedocs.io/ can use)**\n",
    "\n",
    "**Or scanned PDFs (use cv2 and tesseract). Nice to have dataset with scanned PDFs (including bad scan)**\n",
    "\n",
    "**To classify text we will use NLP. Model will train on dataset of relevant and irrelevant text. The model will use idf-tf as a base model. Then try to use n-gramm and word embeddings technique. It will consider sentence of relevant ot irrelevant docs. Also base model to predict use LogisticRegression, then use XGBoost Classifier, Random Forest, and neural network to compare.**\n",
    "\n",
    "**NLP technique are describe here:**\n",
    "https://neptune.ai/blog/text-classification-tips-and-tricks-kaggle-competitions\n",
    "\n",
    "\n",
    "\n",
    "2. What kind of data and how much data you would require from the client and provide guidelines on\n",
    "how to make the data & how to annotate data.\n",
    "\n",
    "**Have to have dataset of the OK and NOT OK docs. Each doc have to labeled as OK or NOT OK.\n",
    "The number of each class ~ 1000 text will be nice to have. If there are more data - use data reducing, however there are less data try to augment text.**\n",
    "\n",
    "\n",
    "\n",
    "3. Some results which you got with your strategy testing\n",
    "\n",
    "**At the moment could to show exctarcting searchable PDFs:**\n",
    "\n",
    "\n",
    "```python\n",
    "from pdfminer.high_level import extract_text\n",
    "extract_text('Nexus AI Challenge_Ver.2.docx.pdf')\n",
    "```\n",
    "\n",
    "**In the codding test, the OCR-service could provide extracted text from pdf or image. There is OCR-tesseract, Opencv, etc.**\n",
    "\n",
    "4. If you use any of the pre-trained models, use the model with the data sample ( you need to find\n",
    "something on the web ) and provide the result.\n",
    "\n",
    "**I would like to search the same task in https://www.kaggle.com/madz2000/nlp-using-glove-embeddings-99-87-accuracy\n",
    "There is binary text classification. And used embedding in Neural Network with LSTM**\n",
    "\n",
    "**Accuracy in there reached 99.87%**\n",
    "\n",
    "\n",
    "5. Provide a timeline if you work on it only by yourself. (How many days/months you need, what kind\n",
    "of results you can promise to deliver\n",
    "\n",
    "**The project will take 3 weeks to get pilot version the model. Plus 1-2 weeks to deploy model to production.**\n",
    "\n"
   ]
  },
  {
   "cell_type": "code",
   "execution_count": null,
   "id": "872df8d7",
   "metadata": {},
   "outputs": [],
   "source": []
  },
  {
   "cell_type": "code",
   "execution_count": 5,
   "id": "e072aa7b",
   "metadata": {},
   "outputs": [
    {
     "name": "stdout",
     "output_type": "stream",
     "text": [
      "# Nexus AI Challenges\n",
      " \n",
      "These are small example projects that are very relevant to the kind of projects you would be working\n",
      "on here.\n",
      " \n",
      " \n",
      "###Ground Rules\n",
      " \n",
      "Choose one of the projects ( “ID card detection” or “Contract document checking” )  and provide the\n",
      "following things.\n",
      "\n",
      " 1. A detailed solution which describes \"How you would solve the problem\", include URLs of web\n",
      "pages, articles, code repositories you will use.\n",
      "2. What kind of data and how much data you would require from the client and prov\n"
     ]
    }
   ],
   "source": [
    "from pdfminer.high_level import extract_text\n",
    "\n",
    "print(extract_text('Nexus AI Challenge_Ver.2.docx.pdf')[:500])"
   ]
  },
  {
   "cell_type": "code",
   "execution_count": null,
   "id": "1557a7cb",
   "metadata": {},
   "outputs": [],
   "source": []
  },
  {
   "cell_type": "code",
   "execution_count": null,
   "id": "98f0c2c3",
   "metadata": {},
   "outputs": [],
   "source": []
  }
 ],
 "metadata": {
  "kernelspec": {
   "display_name": "Python 3",
   "language": "python",
   "name": "python3"
  },
  "language_info": {
   "codemirror_mode": {
    "name": "ipython",
    "version": 3
   },
   "file_extension": ".py",
   "mimetype": "text/x-python",
   "name": "python",
   "nbconvert_exporter": "python",
   "pygments_lexer": "ipython3",
   "version": "3.8.8"
  }
 },
 "nbformat": 4,
 "nbformat_minor": 5
}
